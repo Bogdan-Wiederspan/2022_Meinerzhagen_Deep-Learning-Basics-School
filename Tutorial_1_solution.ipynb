{
  "nbformat": 4,
  "nbformat_minor": 0,
  "metadata": {
    "colab": {
      "name": "Tutorial_1_solution.ipynb",
      "provenance": [],
      "collapsed_sections": [],
      "authorship_tag": "ABX9TyPnk3AtsPTW90DEp9v0zdki",
      "include_colab_link": true
    },
    "kernelspec": {
      "name": "python3",
      "display_name": "Python 3"
    },
    "language_info": {
      "name": "python"
    },
    "widgets": {
      "application/vnd.jupyter.widget-state+json": {
        "20ae380a032f4a18b3ac3ef9a9eadd28": {
          "model_module": "@jupyter-widgets/controls",
          "model_name": "HBoxModel",
          "model_module_version": "1.5.0",
          "state": {
            "_dom_classes": [],
            "_model_module": "@jupyter-widgets/controls",
            "_model_module_version": "1.5.0",
            "_model_name": "HBoxModel",
            "_view_count": null,
            "_view_module": "@jupyter-widgets/controls",
            "_view_module_version": "1.5.0",
            "_view_name": "HBoxView",
            "box_style": "",
            "children": [
              "IPY_MODEL_be367846d86e4c7a9bd39cdd54563aa4",
              "IPY_MODEL_ca7cee0ad48f4ba78b4164e574798aaf",
              "IPY_MODEL_68d96f920cc74a43a2ef4bc3a1da9a8b"
            ],
            "layout": "IPY_MODEL_e45b7dd7d1394a81b19e9eb94d32c478"
          }
        },
        "be367846d86e4c7a9bd39cdd54563aa4": {
          "model_module": "@jupyter-widgets/controls",
          "model_name": "HTMLModel",
          "model_module_version": "1.5.0",
          "state": {
            "_dom_classes": [],
            "_model_module": "@jupyter-widgets/controls",
            "_model_module_version": "1.5.0",
            "_model_name": "HTMLModel",
            "_view_count": null,
            "_view_module": "@jupyter-widgets/controls",
            "_view_module_version": "1.5.0",
            "_view_name": "HTMLView",
            "description": "",
            "description_tooltip": null,
            "layout": "IPY_MODEL_acd9945180b14d8385465b57244ee238",
            "placeholder": "​",
            "style": "IPY_MODEL_4170eabc5d8346ce9e05e153a238badc",
            "value": "Dl Completed...: 100%"
          }
        },
        "ca7cee0ad48f4ba78b4164e574798aaf": {
          "model_module": "@jupyter-widgets/controls",
          "model_name": "FloatProgressModel",
          "model_module_version": "1.5.0",
          "state": {
            "_dom_classes": [],
            "_model_module": "@jupyter-widgets/controls",
            "_model_module_version": "1.5.0",
            "_model_name": "FloatProgressModel",
            "_view_count": null,
            "_view_module": "@jupyter-widgets/controls",
            "_view_module_version": "1.5.0",
            "_view_name": "ProgressView",
            "bar_style": "success",
            "description": "",
            "description_tooltip": null,
            "layout": "IPY_MODEL_36a76b2ebdae48e18e2c4dacfce33959",
            "max": 4,
            "min": 0,
            "orientation": "horizontal",
            "style": "IPY_MODEL_86cd16eb89c74d3faabdb8e9ea476b3b",
            "value": 4
          }
        },
        "68d96f920cc74a43a2ef4bc3a1da9a8b": {
          "model_module": "@jupyter-widgets/controls",
          "model_name": "HTMLModel",
          "model_module_version": "1.5.0",
          "state": {
            "_dom_classes": [],
            "_model_module": "@jupyter-widgets/controls",
            "_model_module_version": "1.5.0",
            "_model_name": "HTMLModel",
            "_view_count": null,
            "_view_module": "@jupyter-widgets/controls",
            "_view_module_version": "1.5.0",
            "_view_name": "HTMLView",
            "description": "",
            "description_tooltip": null,
            "layout": "IPY_MODEL_154d33441e66427ca4345afedb701fd4",
            "placeholder": "​",
            "style": "IPY_MODEL_d51b3e4a6aaf4c2b842fd39be462ac31",
            "value": " 4/4 [00:00&lt;00:00,  7.40 file/s]"
          }
        },
        "e45b7dd7d1394a81b19e9eb94d32c478": {
          "model_module": "@jupyter-widgets/base",
          "model_name": "LayoutModel",
          "model_module_version": "1.2.0",
          "state": {
            "_model_module": "@jupyter-widgets/base",
            "_model_module_version": "1.2.0",
            "_model_name": "LayoutModel",
            "_view_count": null,
            "_view_module": "@jupyter-widgets/base",
            "_view_module_version": "1.2.0",
            "_view_name": "LayoutView",
            "align_content": null,
            "align_items": null,
            "align_self": null,
            "border": null,
            "bottom": null,
            "display": null,
            "flex": null,
            "flex_flow": null,
            "grid_area": null,
            "grid_auto_columns": null,
            "grid_auto_flow": null,
            "grid_auto_rows": null,
            "grid_column": null,
            "grid_gap": null,
            "grid_row": null,
            "grid_template_areas": null,
            "grid_template_columns": null,
            "grid_template_rows": null,
            "height": null,
            "justify_content": null,
            "justify_items": null,
            "left": null,
            "margin": null,
            "max_height": null,
            "max_width": null,
            "min_height": null,
            "min_width": null,
            "object_fit": null,
            "object_position": null,
            "order": null,
            "overflow": null,
            "overflow_x": null,
            "overflow_y": null,
            "padding": null,
            "right": null,
            "top": null,
            "visibility": null,
            "width": null
          }
        },
        "acd9945180b14d8385465b57244ee238": {
          "model_module": "@jupyter-widgets/base",
          "model_name": "LayoutModel",
          "model_module_version": "1.2.0",
          "state": {
            "_model_module": "@jupyter-widgets/base",
            "_model_module_version": "1.2.0",
            "_model_name": "LayoutModel",
            "_view_count": null,
            "_view_module": "@jupyter-widgets/base",
            "_view_module_version": "1.2.0",
            "_view_name": "LayoutView",
            "align_content": null,
            "align_items": null,
            "align_self": null,
            "border": null,
            "bottom": null,
            "display": null,
            "flex": null,
            "flex_flow": null,
            "grid_area": null,
            "grid_auto_columns": null,
            "grid_auto_flow": null,
            "grid_auto_rows": null,
            "grid_column": null,
            "grid_gap": null,
            "grid_row": null,
            "grid_template_areas": null,
            "grid_template_columns": null,
            "grid_template_rows": null,
            "height": null,
            "justify_content": null,
            "justify_items": null,
            "left": null,
            "margin": null,
            "max_height": null,
            "max_width": null,
            "min_height": null,
            "min_width": null,
            "object_fit": null,
            "object_position": null,
            "order": null,
            "overflow": null,
            "overflow_x": null,
            "overflow_y": null,
            "padding": null,
            "right": null,
            "top": null,
            "visibility": null,
            "width": null
          }
        },
        "4170eabc5d8346ce9e05e153a238badc": {
          "model_module": "@jupyter-widgets/controls",
          "model_name": "DescriptionStyleModel",
          "model_module_version": "1.5.0",
          "state": {
            "_model_module": "@jupyter-widgets/controls",
            "_model_module_version": "1.5.0",
            "_model_name": "DescriptionStyleModel",
            "_view_count": null,
            "_view_module": "@jupyter-widgets/base",
            "_view_module_version": "1.2.0",
            "_view_name": "StyleView",
            "description_width": ""
          }
        },
        "36a76b2ebdae48e18e2c4dacfce33959": {
          "model_module": "@jupyter-widgets/base",
          "model_name": "LayoutModel",
          "model_module_version": "1.2.0",
          "state": {
            "_model_module": "@jupyter-widgets/base",
            "_model_module_version": "1.2.0",
            "_model_name": "LayoutModel",
            "_view_count": null,
            "_view_module": "@jupyter-widgets/base",
            "_view_module_version": "1.2.0",
            "_view_name": "LayoutView",
            "align_content": null,
            "align_items": null,
            "align_self": null,
            "border": null,
            "bottom": null,
            "display": null,
            "flex": null,
            "flex_flow": null,
            "grid_area": null,
            "grid_auto_columns": null,
            "grid_auto_flow": null,
            "grid_auto_rows": null,
            "grid_column": null,
            "grid_gap": null,
            "grid_row": null,
            "grid_template_areas": null,
            "grid_template_columns": null,
            "grid_template_rows": null,
            "height": null,
            "justify_content": null,
            "justify_items": null,
            "left": null,
            "margin": null,
            "max_height": null,
            "max_width": null,
            "min_height": null,
            "min_width": null,
            "object_fit": null,
            "object_position": null,
            "order": null,
            "overflow": null,
            "overflow_x": null,
            "overflow_y": null,
            "padding": null,
            "right": null,
            "top": null,
            "visibility": null,
            "width": null
          }
        },
        "86cd16eb89c74d3faabdb8e9ea476b3b": {
          "model_module": "@jupyter-widgets/controls",
          "model_name": "ProgressStyleModel",
          "model_module_version": "1.5.0",
          "state": {
            "_model_module": "@jupyter-widgets/controls",
            "_model_module_version": "1.5.0",
            "_model_name": "ProgressStyleModel",
            "_view_count": null,
            "_view_module": "@jupyter-widgets/base",
            "_view_module_version": "1.2.0",
            "_view_name": "StyleView",
            "bar_color": null,
            "description_width": ""
          }
        },
        "154d33441e66427ca4345afedb701fd4": {
          "model_module": "@jupyter-widgets/base",
          "model_name": "LayoutModel",
          "model_module_version": "1.2.0",
          "state": {
            "_model_module": "@jupyter-widgets/base",
            "_model_module_version": "1.2.0",
            "_model_name": "LayoutModel",
            "_view_count": null,
            "_view_module": "@jupyter-widgets/base",
            "_view_module_version": "1.2.0",
            "_view_name": "LayoutView",
            "align_content": null,
            "align_items": null,
            "align_self": null,
            "border": null,
            "bottom": null,
            "display": null,
            "flex": null,
            "flex_flow": null,
            "grid_area": null,
            "grid_auto_columns": null,
            "grid_auto_flow": null,
            "grid_auto_rows": null,
            "grid_column": null,
            "grid_gap": null,
            "grid_row": null,
            "grid_template_areas": null,
            "grid_template_columns": null,
            "grid_template_rows": null,
            "height": null,
            "justify_content": null,
            "justify_items": null,
            "left": null,
            "margin": null,
            "max_height": null,
            "max_width": null,
            "min_height": null,
            "min_width": null,
            "object_fit": null,
            "object_position": null,
            "order": null,
            "overflow": null,
            "overflow_x": null,
            "overflow_y": null,
            "padding": null,
            "right": null,
            "top": null,
            "visibility": null,
            "width": null
          }
        },
        "d51b3e4a6aaf4c2b842fd39be462ac31": {
          "model_module": "@jupyter-widgets/controls",
          "model_name": "DescriptionStyleModel",
          "model_module_version": "1.5.0",
          "state": {
            "_model_module": "@jupyter-widgets/controls",
            "_model_module_version": "1.5.0",
            "_model_name": "DescriptionStyleModel",
            "_view_count": null,
            "_view_module": "@jupyter-widgets/base",
            "_view_module_version": "1.2.0",
            "_view_name": "StyleView",
            "description_width": ""
          }
        }
      }
    }
  },
  "cells": [
    {
      "cell_type": "markdown",
      "metadata": {
        "id": "view-in-github",
        "colab_type": "text"
      },
      "source": [
        "<a href=\"https://colab.research.google.com/github/Bogdan-Wiederspan/cnn_notebooks/blob/main/Tutorial_1_solution.ipynb\" target=\"_parent\"><img src=\"https://colab.research.google.com/assets/colab-badge.svg\" alt=\"Open In Colab\"/></a>"
      ]
    },
    {
      "cell_type": "markdown",
      "source": [
        "# History\n",
        "Machine learning is a topic that is researched for quite a long time. Biggest problem in the past was the lack of computational ressources. Especially image recognition was terrible in this department, since the analyzation of pictures needed huge feed-forward-networks (bad scaling of parameter numbers). \n",
        "\n",
        "Feed-forward-networks are a bad choice to analyze images, since the learned mapping is not translation or rotation-invariant. This means, that the network could not recognize for example a deer, when the deer was slightly tildet or not centered.\n",
        "\n",
        "LeNet-5 was one of the earliest convolutional neural networks and promoted the development of deep learning. The main benefit of convolutional networks is their invariance in translation and rotation due to the usage of kernel-stride. The other benefit of this approach is that the kernel window provides a local information source. was the reduction of learnable parameters by introduction of convultions\n",
        "\n",
        "We will recreate the LeNet-5 network to train a model on MNIST dataset!"
      ],
      "metadata": {
        "id": "sx9yzS0QFFc7"
      }
    },
    {
      "cell_type": "code",
      "source": [
        "# imports\n",
        "import tensorflow as tf\n",
        "import tensorflow_datasets as tfds\n",
        "from pathlib import Path\n",
        "import matplotlib.pyplot as plt\n",
        "\n",
        "def print_all_datasets():\n",
        "  \"\"\"\n",
        "  Tensorflow has plenty of datasets to play with\n",
        "  a list can be printed with this command\n",
        "  \"\"\"\n",
        "  for dataset in tfds.list_builders():\n",
        "    print(dataset)\n",
        "    \n"
      ],
      "metadata": {
        "id": "whXJ26uKlRf-"
      },
      "execution_count": 1,
      "outputs": []
    },
    {
      "cell_type": "markdown",
      "source": [
        "# The dataset\n",
        "Lets first load the MNIST dataset into our memory by utilising the ```tensorflow_datasets.load('mnist')``` function. \n",
        "\n",
        "This functions does many more things in the background. The dataset is pre-split loaded and the ```split``` argument describes what part of the split should be returned (\"train\", \"valid\", \"test\"). \n",
        "\n",
        "The keyword argument ```as_supervised``` says the function to also return the labels of the dataset. The return value is a tuple of the form: (value, label).\n",
        "\n",
        "The last interesting keyword argument in this function is ```batch_size=-1```.\n",
        "The loaded dataset contains many samples of data. Settings this keyword to -1 loads the whole dataset into the RAM. \n",
        "\n",
        "**A word of warning:** This is something one does not normally want. The main reason are again computational boundaries: like having not enough RAM. The dataset we use today is actually quiet small so this is not a problem. In your everyday life you would use the batch argument to sample a subset, a batch, of the data."
      ],
      "metadata": {
        "id": "s1_E9HDQJpfI"
      }
    },
    {
      "cell_type": "code",
      "source": [
        "# load the data pre-splitted with the labels \n",
        "(train_image, train_label_ints), (test_image, test_label) = tfds.load(name='mnist' , \n",
        "                                                                 split=['train', 'test'], \n",
        "                                                                 shuffle_files=True, \n",
        "                                                                 as_supervised=True, \n",
        "                                                                 batch_size=-1, \n",
        "                                                                 data_dir = '/dataset/')\n",
        "\n",
        "# one-hot-encoding ensures that the categories are vectors and not plain ints\n",
        "# depth: number of categories \n",
        "train_label = tf.one_hot(\n",
        "            indices = train_label_ints,\n",
        "            depth = 10\n",
        ")\n",
        "\n",
        "# Lets see our one hot encoded vector\n",
        "print(train_label)"
      ],
      "metadata": {
        "id": "bWz8FiXSla7d",
        "colab": {
          "base_uri": "https://localhost:8080/",
          "height": 233,
          "referenced_widgets": [
            "20ae380a032f4a18b3ac3ef9a9eadd28",
            "be367846d86e4c7a9bd39cdd54563aa4",
            "ca7cee0ad48f4ba78b4164e574798aaf",
            "68d96f920cc74a43a2ef4bc3a1da9a8b",
            "e45b7dd7d1394a81b19e9eb94d32c478",
            "acd9945180b14d8385465b57244ee238",
            "4170eabc5d8346ce9e05e153a238badc",
            "36a76b2ebdae48e18e2c4dacfce33959",
            "86cd16eb89c74d3faabdb8e9ea476b3b",
            "154d33441e66427ca4345afedb701fd4",
            "d51b3e4a6aaf4c2b842fd39be462ac31"
          ]
        },
        "outputId": "786096aa-7a55-496e-e92a-097b3d1e5bc8"
      },
      "execution_count": 2,
      "outputs": [
        {
          "output_type": "stream",
          "name": "stdout",
          "text": [
            "\u001b[1mDownloading and preparing dataset 11.06 MiB (download: 11.06 MiB, generated: 21.00 MiB, total: 32.06 MiB) to /dataset/mnist/3.0.1...\u001b[0m\n"
          ]
        },
        {
          "output_type": "display_data",
          "data": {
            "text/plain": [
              "Dl Completed...:   0%|          | 0/4 [00:00<?, ? file/s]"
            ],
            "application/vnd.jupyter.widget-view+json": {
              "version_major": 2,
              "version_minor": 0,
              "model_id": "20ae380a032f4a18b3ac3ef9a9eadd28"
            }
          },
          "metadata": {}
        },
        {
          "output_type": "stream",
          "name": "stdout",
          "text": [
            "\u001b[1mDataset mnist downloaded and prepared to /dataset/mnist/3.0.1. Subsequent calls will reuse this data.\u001b[0m\n",
            "tf.Tensor(\n",
            "[[0. 0. 0. ... 0. 0. 0.]\n",
            " [0. 1. 0. ... 0. 0. 0.]\n",
            " [1. 0. 0. ... 0. 0. 0.]\n",
            " ...\n",
            " [0. 0. 0. ... 0. 0. 0.]\n",
            " [0. 1. 0. ... 0. 0. 0.]\n",
            " [0. 0. 0. ... 0. 0. 0.]], shape=(60000, 10), dtype=float32)\n"
          ]
        }
      ]
    },
    {
      "cell_type": "markdown",
      "source": [
        "# Checkout the dataset\n",
        "The first step of every person handling data is plotting the data to get a feeling of its statistical distribution. A handy command to do so is the ```shape``` of the data."
      ],
      "metadata": {
        "id": "fV2sepc8siyY"
      }
    },
    {
      "cell_type": "code",
      "source": [
        "print(f' traindata shape: {train_image.shape}\\n testdata shape: {test_image.shape}')"
      ],
      "metadata": {
        "colab": {
          "base_uri": "https://localhost:8080/"
        },
        "id": "o9sWkTkRliVx",
        "outputId": "29895542-9ee3-4cb5-c552-45e7fb854ccd"
      },
      "execution_count": 3,
      "outputs": [
        {
          "output_type": "stream",
          "name": "stdout",
          "text": [
            " traindata shape: (60000, 28, 28, 1)\n",
            " testdata shape: (10000, 28, 28, 1)\n"
          ]
        }
      ]
    },
    {
      "cell_type": "markdown",
      "source": [
        "The first argument of the data shape is the number of samples. MNIST training set has 60000 images, while the test has only 10000 images.\n",
        "\n",
        "The last three arguments of the shape are the pixel values of the images.\n",
        "The dataformat to stores these pixel values is a numpy array or tensor (which is a numpy array that can also live on a GPU).\n",
        "\n",
        "This means the second argument in the shape are the number of pixel values of a column. The third argument describes the number of pixels of a row. Both are 28, so the image is a square (conv-nets will always work on square pictures, of the downside of using them). The last argument is image specific and describes the color-channel. A value of 1 means that we have gray-scaled images.\n",
        "\n",
        "Lets plot the dataset to see some samples:"
      ],
      "metadata": {
        "id": "OH7VqJE-JY5x"
      }
    },
    {
      "cell_type": "code",
      "source": [
        "fig, ax = plt.subplots(2,5)\n",
        "\n",
        "for ax, image in zip(ax.flatten(), train_image[0:10,:,:,0]):\n",
        "  # the last index (channel) needs to be 0 for gray-scaled images\n",
        "  ax.imshow(image,cmap='gray')\n",
        "fig.tight_layout(pad = 0.3, rect = [0, 0, 0.9, 0.9])\n",
        "plt.show()"
      ],
      "metadata": {
        "colab": {
          "base_uri": "https://localhost:8080/",
          "height": 222
        },
        "id": "pmORP3dvxZhM",
        "outputId": "474103cd-59c3-49a3-859b-d429351bef8a"
      },
      "execution_count": 4,
      "outputs": [
        {
          "output_type": "display_data",
          "data": {
            "text/plain": [
              "<Figure size 432x288 with 10 Axes>"
            ],
            "image/png": "[encoded data removed]"
          },
          "metadata": {
            "needs_background": "light"
          }
        }
      ]
    },
    {
      "cell_type": "markdown",
      "source": [
        "What kind of data does the MNIST dataset consist of ?\n",
        "\n",
        "- square pictures\n",
        "- hand drawn numbers going from 0 to 9 \n",
        "- gray scaled numbers\n",
        "\n",
        "MNIST was the dataset used by Yann LeCun (todays director of AI at Facebook) to test the very first convolutional neural networkLeNet, .\n",
        "\n",
        "We want to recreate this network and get a better feeling about Keras modelbuilding. The blueprint are depicted in the script, but for convenience reason here they are: \n",
        "![An image](https://upload.wikimedia.org/wikipedia/commons/thumb/c/cc/Comparison_image_neural_networks.svg/1920px-Comparison_image_neural_networks.svg.png)\n",
        "\n",
        "We see LeNet to the left and the much more advanced network AlexNet on the right. Its quiet interesting how similar, but yet so different they are. \n",
        "AlexNet is much more advanced than the plain old LeNet. \n",
        "\n",
        "Could you think of some reasons why:\n",
        "- they swapped all sigmoid functions out\n",
        "- the swapped the Pooling from average to max?\n",
        "- they use now 3 conv-layers with small window size insted of one with bigger kernel size\n",
        "\n",
        "\n",
        "\n"
      ],
      "metadata": {
        "id": "xWKIEhI-2hc2"
      }
    },
    {
      "cell_type": "markdown",
      "source": [
        "In general Conv-networks can be separated into 2 blocks: The conv-part (filters) and the feed-forward-network (classficator) at the end. In the convolutional-part of the network filters are trained to detect different propeties. They workout the different features of the image. These processed information are then used as input of a feed-forward to classify the input."
      ],
      "metadata": {
        "id": "ETcAToxTUcK0"
      }
    },
    {
      "cell_type": "markdown",
      "source": [
        "# Build LeNet with Keras:\n",
        "Lets build the model. Our starting point is a ```tf.keras.models.Sequential()```object. A sequential object is a linear container holding the networks layer and have some handy functions defined to pass inputs through the layers.\n",
        "\n",
        "You can add a simply by using ```model.add(keras_layer)```\n",
        "\n",
        "A list of possible keras_layer can be found here: https://www.tensorflow.org/api_docs/python/tf/keras/layers. \n",
        "\n",
        "By looking at the Picture of LeNet we need a ***Dense Layer, a Pooling Layer*** and atleast somekind of ***ConvND*** layer (which Dimension? Remember your input data shape!). \n",
        "\n",
        "These networks have many arguments like stride or padding, or kernel size.\n",
        "You find an explanation to all arguments in the script.\n",
        "\n",
        "The most frustating part of setting up CNNs is a shape missmatch.\n",
        "This happens quiet often, since each layer is capable of reducing the output size. Use the formular given in the script about the output shape of the network!\n",
        "\n",
        "\n",
        "Hint:\n",
        "``` padding``` can be \"same\" or \"valid\". valid is the default and means no pading is added. Meanwhile with same a padding with 0 is done.\n",
        "\n",
        "```stride``` describes the number fields that the kernel move (stride).\n",
        "The + 1 in the formular is the bias!\n",
        "\n",
        "\n"
      ],
      "metadata": {
        "id": "aPc5p_j2VTQX"
      }
    },
    {
      "cell_type": "markdown",
      "source": [
        "To help you a little in building the network the start and end is already given. Compare the code of the layer with the Image of LeNet to get a better understand what they do!\n",
        "\n",
        "Try to answer the following questions while learning the coding:\n",
        "- what happens with the output if padding is \"same\" and stride is 1 (default)\n",
        "- how does the output shape changes by using a PoolingLayer with poolsize (2,2)\n",
        "- why do we flatten the output \n",
        "- what is the shape after flatten?\n",
        "- what work is done by the dense network\n",
        "- why do we use a softmax activation function at the end?\n",
        "- which value has the sum of the softmax function output?"
      ],
      "metadata": {
        "id": "Y2czAbhVJRx3"
      }
    },
    {
      "cell_type": "code",
      "source": [
        "\"#@title\" \n",
        "# alias to make it shorter to access the layers\n",
        "import tensorflow as tf\n",
        "model = tf.keras.models.Sequential()\n",
        "\n",
        "layers = tf.keras.layers\n",
        "\n",
        "model.add(layers.Conv2D(filters=6, kernel_size=(5, 5), activation='sigmoid', input_shape=(28,28,1), padding=\"same\"))\n",
        "model.add(layers.AveragePooling2D(pool_size=(2,2), strides=2))\n",
        "\n",
        "model.add(layers.Conv2D(filters=16, kernel_size=(5, 5), activation='sigmoid', padding=\"valid\"))\n",
        "model.add(layers.AveragePooling2D(pool_size=(2,2), strides=2))\n",
        "\n",
        "model.add(layers.Flatten())\n",
        "\n",
        "model.add(layers.Dense(units=120, activation='sigmoid'))\n",
        "\n",
        "model.add(layers.Dense(units=84, activation='sigmoid'))\n",
        "\n",
        "model.add(layers.Dense(units=10, activation = 'softmax'))\n",
        "\n",
        "\n",
        "model.summary()\n"
      ],
      "metadata": {
        "id": "CTenaX0e7WkR",
        "colab": {
          "base_uri": "https://localhost:8080/"
        },
        "outputId": "286ea4a7-9b57-4dee-a88f-994b1c3d6f08"
      },
      "execution_count": 6,
      "outputs": [
        {
          "output_type": "stream",
          "name": "stdout",
          "text": [
            "Model: \"sequential_1\"\n",
            "_________________________________________________________________\n",
            " Layer (type)                Output Shape              Param #   \n",
            "=================================================================\n",
            " conv2d_1 (Conv2D)           (None, 28, 28, 6)         156       \n",
            "                                                                 \n",
            " average_pooling2d (AverageP  (None, 14, 14, 6)        0         \n",
            " ooling2D)                                                       \n",
            "                                                                 \n",
            " conv2d_2 (Conv2D)           (None, 10, 10, 16)        2416      \n",
            "                                                                 \n",
            " average_pooling2d_1 (Averag  (None, 5, 5, 16)         0         \n",
            " ePooling2D)                                                     \n",
            "                                                                 \n",
            " flatten (Flatten)           (None, 400)               0         \n",
            "                                                                 \n",
            " dense (Dense)               (None, 120)               48120     \n",
            "                                                                 \n",
            " dense_1 (Dense)             (None, 84)                10164     \n",
            "                                                                 \n",
            " dense_2 (Dense)             (None, 10)                850       \n",
            "                                                                 \n",
            "=================================================================\n",
            "Total params: 61,706\n",
            "Trainable params: 61,706\n",
            "Non-trainable params: 0\n",
            "_________________________________________________________________\n"
          ]
        }
      ]
    },
    {
      "cell_type": "markdown",
      "source": [
        "\n",
        "# Training:\n",
        "Okay we got our model. Now we need to assemble the model with an optimizer. To start the trainings process run the ```model.fit()``` command. Adjust the Hyperparameters before doing so.\n"
      ],
      "metadata": {
        "id": "mBf6mAcYb-Sn"
      }
    },
    {
      "cell_type": "code",
      "source": [
        "print(train_image.shape,train_label.shape)\n"
      ],
      "metadata": {
        "colab": {
          "base_uri": "https://localhost:8080/"
        },
        "id": "FFrt0DDHpIYk",
        "outputId": "7089bbfd-b71d-410b-db4f-d7dd7df6061e"
      },
      "execution_count": 7,
      "outputs": [
        {
          "output_type": "stream",
          "name": "stdout",
          "text": [
            "(60000, 28, 28, 1) (60000, 10)\n"
          ]
        }
      ]
    },
    {
      "cell_type": "code",
      "source": [
        "model.compile(optimizer=\"Adam\",\n",
        "              loss=\"categorical_crossentropy\",\n",
        "              metrics=[\"accuracy\", \"categorical_crossentropy\"])\n",
        "\n",
        "\n",
        "batch_size=128\n",
        "epoch=2\n",
        "shuffele=True\n",
        "subset = 128\n",
        "\n",
        "train_history = model.fit(train_image[0:subset],\n",
        "                          train_label[0:subset],\n",
        "                          batch_size=batch_size,\n",
        "                          epochs=epoch,\n",
        "                          verbose=True,\n",
        "                          shuffle=True)"
      ],
      "metadata": {
        "id": "gnn60u-MdUL7",
        "colab": {
          "base_uri": "https://localhost:8080/"
        },
        "outputId": "38f0cf8d-42f9-43d2-80ea-0e28f3e4036c"
      },
      "execution_count": 9,
      "outputs": [
        {
          "output_type": "stream",
          "name": "stdout",
          "text": [
            "Epoch 1/2\n",
            "1/1 [==============================] - 1s 756ms/step - loss: 2.5543 - accuracy: 0.0625 - categorical_crossentropy: 2.5543\n",
            "Epoch 2/2\n",
            "1/1 [==============================] - 0s 68ms/step - loss: 2.4598 - accuracy: 0.0625 - categorical_crossentropy: 2.4598\n"
          ]
        }
      ]
    },
    {
      "cell_type": "code",
      "source": [
        "# use the model to predict an input\n",
        "test_subset = 10\n",
        "\n",
        "test_image_subset = test_image[0:test_subset]\n",
        "test_label_subset = test_label[0:test_subset]\n",
        "\n",
        "# predicts 10 classes, class with highest probability is our best pick\n",
        "prediction = model.predict(test_image_subset)\n",
        "\n",
        "# this gives us the index of the biggest prediction value\n",
        "# since our numbers are ordered from 0 to 9 these\n",
        "# are also our prediction values\n",
        "mapped_prediction = tf.math.argmax(prediction,1)\n",
        "\n",
        "\n",
        "\n",
        "for pred, true in zip(mapped_prediction, test_label_subset):\n",
        "  print(f'Prediction: {pred}, True: {true}, Guessed right: {pred == true}')\n"
      ],
      "metadata": {
        "colab": {
          "base_uri": "https://localhost:8080/"
        },
        "id": "qmhf_Aiqi0QD",
        "outputId": "8e7d7d98-f4bb-47c7-c135-2a1b92394dd5"
      },
      "execution_count": 8,
      "outputs": [
        {
          "output_type": "stream",
          "name": "stdout",
          "text": [
            "Prediction: 5, True: 2, Guessed right: False\n",
            "Prediction: 5, True: 0, Guessed right: False\n",
            "Prediction: 5, True: 4, Guessed right: False\n",
            "Prediction: 5, True: 8, Guessed right: False\n",
            "Prediction: 5, True: 7, Guessed right: False\n",
            "Prediction: 5, True: 6, Guessed right: False\n",
            "Prediction: 5, True: 0, Guessed right: False\n",
            "Prediction: 5, True: 6, Guessed right: False\n",
            "Prediction: 5, True: 3, Guessed right: False\n",
            "Prediction: 5, True: 1, Guessed right: False\n"
          ]
        }
      ]
    },
    {
      "cell_type": "markdown",
      "source": [
        "How can one improve the networks scores? Play a little bit with the hyperparameters. Increase the trainings epoch, hidden layer, number of layer.... "
      ],
      "metadata": {
        "id": "JXGd1uf8lqBL"
      }
    }
  ]
}